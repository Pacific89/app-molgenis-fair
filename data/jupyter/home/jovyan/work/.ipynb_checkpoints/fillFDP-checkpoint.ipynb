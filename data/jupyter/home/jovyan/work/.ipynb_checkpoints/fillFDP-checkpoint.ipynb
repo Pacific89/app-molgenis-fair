{
 "cells": [
  {
   "cell_type": "markdown",
   "id": "6d56896a-17a7-472a-83b0-aa2f63b5a8f4",
   "metadata": {},
   "source": [
    "# Fill the FDP with relevant data from the Molgenis\n",
    "\n",
    "## `Todo` further discribtions"
   ]
  },
  {
   "cell_type": "markdown",
   "id": "2f39b2e0-c40b-49e3-91da-cdf4494c87b7",
   "metadata": {
    "tags": []
   },
   "source": [
    "## API Libraraies \n",
    "### Molgenis\n",
    "\n",
    "`TODO`\n",
    "\n",
    "### FDP our own\n",
    "[Code](https://github.com/bibbox/fdpAPIconnector.py)\n",
    "\n",
    "[PyPI](https://pypi.org/project/fdpAPIconnector/)"
   ]
  },
  {
   "cell_type": "code",
   "execution_count": 2,
   "id": "50dbf30e-ac79-4fe1-aab8-d01adfadc402",
   "metadata": {},
   "outputs": [
    {
     "name": "stdout",
     "output_type": "stream",
     "text": [
      "Collecting rdflib\n",
      "  Downloading rdflib-6.1.1-py3-none-any.whl (482 kB)\n",
      "\u001b[2K     \u001b[90m━━━━━━━━━━━━━━━━━━━━━━━━━━━━━━━━━━━━━━\u001b[0m \u001b[32m482.8/482.8 KB\u001b[0m \u001b[31m10.8 MB/s\u001b[0m eta \u001b[36m0:00:00\u001b[0ma \u001b[36m0:00:01\u001b[0m\n",
      "\u001b[?25hRequirement already satisfied: requests in /opt/conda/lib/python3.9/site-packages (2.27.1)\n",
      "Collecting fdpAPIconnector\n",
      "  Downloading fdpAPIconnector-0.0.3-py3-none-any.whl (9.0 kB)\n",
      "Collecting molgenis-py-client\n",
      "  Downloading molgenis_py_client-2.3.1-py3-none-any.whl (8.5 kB)\n",
      "Collecting isodate\n",
      "  Downloading isodate-0.6.1-py2.py3-none-any.whl (41 kB)\n",
      "\u001b[2K     \u001b[90m━━━━━━━━━━━━━━━━━━━━━━━━━━━━━━━━━━━━━━━━\u001b[0m \u001b[32m41.7/41.7 KB\u001b[0m \u001b[31m5.1 MB/s\u001b[0m eta \u001b[36m0:00:00\u001b[0m\n",
      "\u001b[?25hRequirement already satisfied: setuptools in /opt/conda/lib/python3.9/site-packages (from rdflib) (62.1.0)\n",
      "Requirement already satisfied: pyparsing in /opt/conda/lib/python3.9/site-packages (from rdflib) (3.0.8)\n",
      "Requirement already satisfied: charset-normalizer~=2.0.0 in /opt/conda/lib/python3.9/site-packages (from requests) (2.0.12)\n",
      "Requirement already satisfied: idna<4,>=2.5 in /opt/conda/lib/python3.9/site-packages (from requests) (3.3)\n",
      "Requirement already satisfied: certifi>=2017.4.17 in /opt/conda/lib/python3.9/site-packages (from requests) (2021.10.8)\n",
      "Requirement already satisfied: urllib3<1.27,>=1.21.1 in /opt/conda/lib/python3.9/site-packages (from requests) (1.26.9)\n",
      "Requirement already satisfied: six in /opt/conda/lib/python3.9/site-packages (from isodate->rdflib) (1.16.0)\n",
      "Installing collected packages: isodate, rdflib, molgenis-py-client, fdpAPIconnector\n",
      "Successfully installed fdpAPIconnector-0.0.3 isodate-0.6.1 molgenis-py-client-2.3.1 rdflib-6.1.1\n"
     ]
    }
   ],
   "source": [
    "# pip installs\n",
    "!pip install rdflib requests fdpAPIconnector molgenis-py-client"
   ]
  },
  {
   "cell_type": "code",
   "execution_count": 3,
   "id": "112cf84f-99be-442e-916e-f28d67e7fe73",
   "metadata": {},
   "outputs": [],
   "source": [
    "# imports\n",
    "import requests\n",
    "import rdflib\n",
    "import molgenis.client as mg\n",
    "from fdpAPIconnector.fdpclient import FDPClient"
   ]
  },
  {
   "cell_type": "markdown",
   "id": "2ca257e8-331c-40e6-b4ee-17d64299a0a8",
   "metadata": {},
   "source": [
    "## Get relevent Env variables URLS, Logins etc."
   ]
  },
  {
   "cell_type": "code",
   "execution_count": 4,
   "id": "6bc73570-56a4-4333-a422-c232276033ae",
   "metadata": {},
   "outputs": [],
   "source": [
    "# TODO EJ (einheitlich für alle apps)\n",
    "# TODO PN (für docker molgenis umbauen)\n",
    "\n",
    "# FDP ()\n",
    "fdp_baseurl = \"http://localhost:8088\"\n",
    "# fdp_email = \"abmin@FDP.org\"\n",
    "# fdp_password = \"password\"\n",
    "fdp_api_key = \"rEuD5N1eNdZIDPbgLXiiO7pIEwuOdfYygvbMpgCwRmp3OxRttQsszyfFa8vJpesf6Gpa17OFhHxE06ywRWOHD9UnL54sDZRWF8KotU1WNh81a5NZEA3OejAcHWU7B19V\"\n",
    "fdp_catalog_isPartOf = 'http://localhost:8088'\n",
    "\n",
    "# MOLGENIS\n",
    "# molgenis_fdp_base_url = \"http://bibbox-molgenis-frontend/api/fdp/\"\n",
    "molgenis_fdp_base_url = \"http://molgenis-fdp.silicolabv4.bibbox.org/api/fdp/\"\n",
    "molgenis_fdp_package_catalog = 'fdp_Catalog'\n",
    "molgenis_fdp_package_dataset = 'fdp_Dataset'\n",
    "molgenis_fdp_package_distribution = 'fdp_Distribution'\n",
    "# molgenis_api_base_url = \"http://bibbox-molgenis-frontend/api/\"\n",
    "molgenis_api_base_url = \"http://molgenis-fdp.silicolabv4.bibbox.org/api/\"\n",
    "molgenis_user = \"admin\"\n",
    "molgenis_pswd = \"admin\""
   ]
  },
  {
   "cell_type": "markdown",
   "id": "1e24e31b-9f9b-4c88-a83a-827fbecea66e",
   "metadata": {
    "tags": []
   },
   "source": [
    "## Define Helper Functions"
   ]
  },
  {
   "cell_type": "code",
   "execution_count": 19,
   "id": "3b21b146-7602-461f-a2fc-499c04d45bc0",
   "metadata": {},
   "outputs": [],
   "source": [
    "def parse_response(data, format='turtle'):\n",
    "    g = rdflib.Graph()\n",
    "    g.parse(data=data, format=format)\n",
    "    return g\n",
    "\n",
    "\n",
    "def add_isPartOf(graph, id, isPartOf, namespace = rdflib.namespace.DCTERMS.isPartOf):\n",
    "    try:\n",
    "        return graph.add((id, namespace, isPartOf))\n",
    "    except Exception as e:\n",
    "        print(f\"Could not add isPartOf attribute. {e}\")\n",
    "\n",
    "\n",
    "def get_entity_from_molgenis_fdp(entity_id):\n",
    "    r = requests.get(entity_id)\n",
    "    if r.ok:\n",
    "        return parse_response(r.text)\n",
    "    else:\n",
    "        print(f\"## Error. Could not retrieve entity {entity_id} from fdp endpoint.\")\n",
    "\n",
    "\n",
    "def create_fdp_catalog(catalog_id, graph):\n",
    "    catalog_URI = rdflib.URIRef(catalog_id)\n",
    "    isPartOf = rdflib.URIRef(fdp_catalog_isPartOf)\n",
    "    graph = add_isPartOf(graph, catalog_URI, isPartOf)\n",
    "    print(fdpclient.publicurl)\n",
    "    print(graph.serialize())\n",
    "    try:\n",
    "        return fdpclient.create(type='catalog', data=graph.serialize())\n",
    "    except Exception as e:\n",
    "        print(f\"unexpected error creating fdp entity. {e}\")\n",
    "\n",
    "\n",
    "def create_fdp_dataset(dataset_id, graph, parent_id):\n",
    "    print(str(fdp_catalog_isPartOf) + '/catalog/' + str(parent_id))\n",
    "    dataset_URI = rdflib.URIRef(dataset_id)\n",
    "    isPartOf = rdflib.URIRef(str(fdp_catalog_isPartOf) + '/catalog/' + str(parent_id))\n",
    "    graph = add_isPartOf(graph, dataset_URI, isPartOf)\n",
    "    try:\n",
    "        return fdpclient.create(type='dataset', data=graph.serialize())\n",
    "    except Exception as e:\n",
    "        print(f\"unexpected error creating fdp entity. {e}\")\n",
    "\n",
    "def create_fdp_distribution(distribution_id, graph, parent_id):\n",
    "    distribution_URI = rdflib.URIRef(distribution_id)\n",
    "    isPartOf = rdflib.URIRef(str(fdp_catalog_isPartOf) + '/dataset/' + str(parent_id))\n",
    "    graph = add_isPartOf(graph, distribution_URI, isPartOf)\n",
    "    try:\n",
    "        return fdpclient.create(type='distribution', data=graph.serialize())\n",
    "    except Exception as e:\n",
    "        print(f\"unexpected error creating fdp entity. {e}\")"
   ]
  },
  {
   "cell_type": "markdown",
   "id": "6c8f9efc-b7d1-44a1-98ab-6517bc22769e",
   "metadata": {},
   "source": [
    "## Get the API clients/connectors"
   ]
  },
  {
   "cell_type": "code",
   "execution_count": 6,
   "id": "11a441a4-471a-4e13-bece-6abceae74e5d",
   "metadata": {},
   "outputs": [],
   "source": [
    "# init clients\n",
    "# FDP\n",
    "fdpclient = FDPClient(fdp_baseurl, api_token=fdp_api_key)\n",
    "# MOLGENIS\n",
    "mg_session = mg.Session(molgenis_api_base_url)\n",
    "mg_session.login(molgenis_user, molgenis_pswd)"
   ]
  },
  {
   "cell_type": "markdown",
   "id": "4081c24c-2f40-46d9-8fba-3bee59c6137a",
   "metadata": {},
   "source": [
    "## Get all Catalogs from Molgenis"
   ]
  },
  {
   "cell_type": "code",
   "execution_count": 7,
   "id": "4913d270-71ab-4b96-9a76-fdef98dfd63c",
   "metadata": {},
   "outputs": [
    {
     "name": "stdout",
     "output_type": "stream",
     "text": [
      "[{'_href': '/api/v2/fdp_Catalog/example_catalog_001', 'title': 'MOLGENIS Catalogue', 'hasVersion': '1', 'publisher': {'_href': '/api/v2/fdp_Publisher/fdp_publisher_001', 'identifier': 'fdp_publisher_001', 'label': 'example publisher'}, 'description': 'MOLGENIS example catalogue', 'language': {'_href': '/api/v2/fdp_Language/eng', 'alpha3b': 'eng', 'name': 'English'}, 'license': 'http://rdflicense.appspot.com/rdflicense/lgpl3.0', 'rights': {'_href': '/api/v2/fdp_IRI/2', 'id': 2, 'IRI': 'http://rights.org'}, 'issued': '2017-11-16T00:00:00Z', 'modified': '2020-09-23T00:00:00Z', 'homepage': 'http://molgenis.org', 'dataset': [{'_href': '/api/v2/fdp_Dataset/example_dataset_1', 'title': 'Dataset', 'identifier': 'example_dataset_1'}], 'themeTaxonomy': [{'_href': '/api/v2/fdp_IRI/1', 'id': 1, 'IRI': 'http://example.org'}], 'identifier': 'example_catalog_001'}]\n"
     ]
    }
   ],
   "source": [
    "catalogs = mg_session.get(molgenis_fdp_package_catalog)\n",
    "# print(catalogs)"
   ]
  },
  {
   "cell_type": "code",
   "execution_count": 9,
   "id": "4ed85085-733c-4ab3-bf4d-7b73a2af11d4",
   "metadata": {},
   "outputs": [
    {
     "name": "stdout",
     "output_type": "stream",
     "text": [
      "@prefix datacite: <http://purl.org/spar/datacite/> .\n",
      "@prefix dcat: <http://www.w3.org/ns/dcat#> .\n",
      "@prefix dct: <http://purl.org/dc/terms/> .\n",
      "@prefix fdp: <http://rdf.biosemantics.org/ontologies/fdp-o#> .\n",
      "@prefix foaf: <http://xmlns.com/foaf/0.1/> .\n",
      "@prefix ns1: <http://www.w3.org/2006/vcard/ns#> .\n",
      "@prefix rdfs: <http://www.w3.org/2000/01/rdf-schema#> .\n",
      "@prefix xsd: <http://www.w3.org/2001/XMLSchema#> .\n",
      "\n",
      "<http://molgenis-fdp.silicolabv4.bibbox.org/api/fdp/fdp_Catalog/example_catalog_001> a dcat:Catalog,\n",
      "        dcat:Resource ;\n",
      "    rdfs:label \"MOLGENIS Catalogue\" ;\n",
      "    dct:description \"MOLGENIS example catalogue\" ;\n",
      "    dct:hasVersion \"1\" ;\n",
      "    dct:issued \"2017-11-16T00:00:00+00:00\"^^xsd:dateTime ;\n",
      "    dct:language <http://lexvo.org/id/iso639-3/eng> ;\n",
      "    dct:license <http://rdflicense.appspot.com/rdflicense/lgpl3.0> ;\n",
      "    dct:modified \"2020-09-23T00:00:00+00:00\"^^xsd:dateTime ;\n",
      "    dct:publisher [ a foaf:Agent ;\n",
      "            ns1:hasEmail \"publisher@molgenis.org\" ;\n",
      "            ns1:hasUID \"https://orcid.org/0000-0001-2345-6789\" ;\n",
      "            foaf:name \"example publisher\" ] ;\n",
      "    dct:rights <http://rights.org> ;\n",
      "    dct:title \"MOLGENIS Catalogue\" ;\n",
      "    fdp:metadataIdentifier [ a datacite:Identifier ;\n",
      "            dct:identifier <http://molgenis-fdp.silicolabv4.bibbox.org/api/fdp/fdp_Catalog/example_catalog_001> ] ;\n",
      "    fdp:metadataIssued \"2017-11-16T00:00:00+00:00\"^^xsd:dateTime ;\n",
      "    fdp:metadataModified \"2020-09-23T00:00:00+00:00\"^^xsd:dateTime ;\n",
      "    dcat:Resource \"MOLGENIS Catalogue\" ;\n",
      "    dcat:dataset <http://molgenis-fdp.silicolabv4.bibbox.org/api/fdp/fdp_Dataset/example_dataset_1> ;\n",
      "    dcat:themeTaxonomy <http://example.org> ;\n",
      "    foaf:homepage <http://molgenis.org> .\n",
      "\n",
      "\n"
     ]
    }
   ],
   "source": [
    "catalog = catalogs[0]\n",
    "catalog_molgenis_fdp_id = molgenis_fdp_base_url + molgenis_fdp_package_catalog + '/' + catalog['identifier']\n",
    "g = get_entity_from_molgenis_fdp(catalog_molgenis_fdp_id)\n",
    "print(g.serialize())"
   ]
  },
  {
   "cell_type": "code",
   "execution_count": 20,
   "id": "32e6d58d-1476-4ec3-aa0c-b4e391703d46",
   "metadata": {},
   "outputs": [
    {
     "name": "stdout",
     "output_type": "stream",
     "text": [
      "http://localhost:8088\n",
      "@prefix datacite: <http://purl.org/spar/datacite/> .\n",
      "@prefix dcat: <http://www.w3.org/ns/dcat#> .\n",
      "@prefix dct: <http://purl.org/dc/terms/> .\n",
      "@prefix fdp: <http://rdf.biosemantics.org/ontologies/fdp-o#> .\n",
      "@prefix foaf: <http://xmlns.com/foaf/0.1/> .\n",
      "@prefix ns1: <http://www.w3.org/2006/vcard/ns#> .\n",
      "@prefix rdfs: <http://www.w3.org/2000/01/rdf-schema#> .\n",
      "@prefix xsd: <http://www.w3.org/2001/XMLSchema#> .\n",
      "\n",
      "<http://molgenis-fdp.silicolabv4.bibbox.org/api/fdp/fdp_Catalog/example_catalog_001> a dcat:Catalog,\n",
      "        dcat:Resource ;\n",
      "    rdfs:label \"MOLGENIS Catalogue\" ;\n",
      "    dct:description \"MOLGENIS example catalogue\" ;\n",
      "    dct:hasVersion \"1\" ;\n",
      "    dct:isPartOf <http://localhost:8088> ;\n",
      "    dct:issued \"2017-11-16T00:00:00+00:00\"^^xsd:dateTime ;\n",
      "    dct:language <http://lexvo.org/id/iso639-3/eng> ;\n",
      "    dct:license <http://rdflicense.appspot.com/rdflicense/lgpl3.0> ;\n",
      "    dct:modified \"2020-09-23T00:00:00+00:00\"^^xsd:dateTime ;\n",
      "    dct:publisher [ a foaf:Agent ;\n",
      "            ns1:hasEmail \"publisher@molgenis.org\" ;\n",
      "            ns1:hasUID \"https://orcid.org/0000-0001-2345-6789\" ;\n",
      "            foaf:name \"example publisher\" ] ;\n",
      "    dct:rights <http://rights.org> ;\n",
      "    dct:title \"MOLGENIS Catalogue\" ;\n",
      "    fdp:metadataIdentifier [ a datacite:Identifier ;\n",
      "            dct:identifier <http://molgenis-fdp.silicolabv4.bibbox.org/api/fdp/fdp_Catalog/example_catalog_001> ] ;\n",
      "    fdp:metadataIssued \"2017-11-16T00:00:00+00:00\"^^xsd:dateTime ;\n",
      "    fdp:metadataModified \"2020-09-23T00:00:00+00:00\"^^xsd:dateTime ;\n",
      "    dcat:Resource \"MOLGENIS Catalogue\" ;\n",
      "    dcat:dataset <http://molgenis-fdp.silicolabv4.bibbox.org/api/fdp/fdp_Dataset/example_dataset_1> ;\n",
      "    dcat:themeTaxonomy <http://example.org> ;\n",
      "    foaf:homepage <http://molgenis.org> .\n",
      "\n",
      "\n",
      "Unexpected error when connecting to http://localhost:8088/catalog\n",
      "\n",
      "unexpected error creating fdp entity. HTTPConnectionPool(host='localhost', port=8088): Max retries exceeded with url: /catalog (Caused by NewConnectionError('<urllib3.connection.HTTPConnection object at 0x7f0e40250fa0>: Failed to establish a new connection: [Errno 111] Connection refused'))\n",
      "\n",
      "fdp_catalog_id: None\n"
     ]
    }
   ],
   "source": [
    "fdp_catalog_id = create_fdp_catalog(catalog_molgenis_fdp_id, g)\n",
    "print(f'\\nfdp_catalog_id: {fdp_catalog_id}')"
   ]
  },
  {
   "cell_type": "markdown",
   "id": "6417bf2f-7cf9-42c1-b6af-bf8a22ada20b",
   "metadata": {},
   "source": [
    "## Loop through Catalog ids and create catalogs, datasets and distribution in FDP"
   ]
  },
  {
   "cell_type": "code",
   "execution_count": 8,
   "id": "1492c99d-931e-4d07-8732-637c48181049",
   "metadata": {},
   "outputs": [
    {
     "ename": "NameError",
     "evalue": "name 'fdp_catalog_id' is not defined",
     "output_type": "error",
     "traceback": [
      "\u001b[0;31m---------------------------------------------------------------------------\u001b[0m",
      "\u001b[0;31mNameError\u001b[0m                                 Traceback (most recent call last)",
      "Input \u001b[0;32mIn [8]\u001b[0m, in \u001b[0;36m<cell line: 2>\u001b[0;34m()\u001b[0m\n\u001b[1;32m      3\u001b[0m catalog_molgenis_fdp_id \u001b[38;5;241m=\u001b[39m molgenis_fdp_base_url \u001b[38;5;241m+\u001b[39m molgenis_fdp_package_catalog \u001b[38;5;241m+\u001b[39m \u001b[38;5;124m'\u001b[39m\u001b[38;5;124m/\u001b[39m\u001b[38;5;124m'\u001b[39m \u001b[38;5;241m+\u001b[39m catalog[\u001b[38;5;124m'\u001b[39m\u001b[38;5;124midentifier\u001b[39m\u001b[38;5;124m'\u001b[39m]\n\u001b[1;32m      4\u001b[0m g \u001b[38;5;241m=\u001b[39m get_entity_from_molgenis_fdp(catalog_molgenis_fdp_id)\n\u001b[0;32m----> 5\u001b[0m fdp_catalog_id \u001b[38;5;241m=\u001b[39m \u001b[43mcreate_fdp_catalog\u001b[49m\u001b[43m(\u001b[49m\u001b[43mcatalog_molgenis_fdp_id\u001b[49m\u001b[43m,\u001b[49m\u001b[43m \u001b[49m\u001b[43mg\u001b[49m\u001b[43m)\u001b[49m\n\u001b[1;32m      6\u001b[0m \u001b[38;5;28mprint\u001b[39m(\u001b[38;5;124mf\u001b[39m\u001b[38;5;124m'\u001b[39m\u001b[38;5;124m catalog id \u001b[39m\u001b[38;5;132;01m{\u001b[39;00mfdp_catalog_id\u001b[38;5;132;01m}\u001b[39;00m\u001b[38;5;124m'\u001b[39m)\n\u001b[1;32m      8\u001b[0m \u001b[38;5;66;03m# Dataset\u001b[39;00m\n",
      "Input \u001b[0;32mIn [5]\u001b[0m, in \u001b[0;36mcreate_fdp_catalog\u001b[0;34m(catalog_id, graph)\u001b[0m\n\u001b[1;32m     24\u001b[0m isPartOf \u001b[38;5;241m=\u001b[39m rdflib\u001b[38;5;241m.\u001b[39mURIRef(fdp_catalog_isPartOf)\n\u001b[1;32m     25\u001b[0m graph \u001b[38;5;241m=\u001b[39m add_isPartOf(graph, catalog_URI, isPartOf)\n\u001b[0;32m---> 26\u001b[0m \u001b[38;5;28mprint\u001b[39m(\u001b[38;5;124mf\u001b[39m\u001b[38;5;124m'\u001b[39m\u001b[38;5;124m catalog id \u001b[39m\u001b[38;5;132;01m{\u001b[39;00mfdp_catalog_id\u001b[38;5;132;01m}\u001b[39;00m\u001b[38;5;124m'\u001b[39m)\n\u001b[1;32m     27\u001b[0m \u001b[38;5;28;01mtry\u001b[39;00m:\n\u001b[1;32m     28\u001b[0m     \u001b[38;5;28;01mreturn\u001b[39;00m fdpclient\u001b[38;5;241m.\u001b[39mcreate(\u001b[38;5;28mtype\u001b[39m\u001b[38;5;241m=\u001b[39m\u001b[38;5;124m'\u001b[39m\u001b[38;5;124mcatalog\u001b[39m\u001b[38;5;124m'\u001b[39m, data\u001b[38;5;241m=\u001b[39mgraph\u001b[38;5;241m.\u001b[39mserialize())\n",
      "\u001b[0;31mNameError\u001b[0m: name 'fdp_catalog_id' is not defined"
     ]
    }
   ],
   "source": [
    "    # TODO PN (store IDs in array or dict to later publish everything; alternatively)\n",
    "    for catalog in catalogs:\n",
    "        catalog_molgenis_fdp_id = molgenis_fdp_base_url + molgenis_fdp_package_catalog + '/' + catalog['identifier']\n",
    "        g = get_entity_from_molgenis_fdp(catalog_molgenis_fdp_id)\n",
    "        fdp_catalog_id = create_fdp_catalog(catalog_molgenis_fdp_id, g)\n",
    "        print(f' catalog id {fdp_catalog_id}')\n",
    "\n",
    "        # Dataset\n",
    "        for ds in catalog['dataset']:\n",
    "            dataset = mg_session.get_by_id(molgenis_fdp_package_dataset, ds['identifier'])\n",
    "            dataset_molgenis_fdp_id = molgenis_fdp_base_url + molgenis_fdp_package_dataset + '/' + dataset['identifier']\n",
    "            g = get_entity_from_molgenis_fdp(dataset_molgenis_fdp_id)\n",
    "            fdp_dataset_id = create_fdp_dataset(dataset_molgenis_fdp_id, g, fdp_catalog_id)\n",
    "\n",
    "            # Distribution\n",
    "            for dis in dataset['distribution']:\n",
    "                distribution = mg_session.get_by_id(molgenis_fdp_package_distribution, dis['identifier'])\n",
    "                distribution_molgenis_fdp_id = molgenis_fdp_base_url + molgenis_fdp_package_distribution + '/' + distribution['identifier']\n",
    "                g = get_entity_from_molgenis_fdp(distribution_molgenis_fdp_id)\n",
    "                fdp_distribution_id = create_fdp_distribution(distribution_molgenis_fdp_id, g, fdp_dataset_id)\n"
   ]
  },
  {
   "cell_type": "markdown",
   "id": "78b4bb2f-e3e8-435d-8575-df1d611c63b4",
   "metadata": {},
   "source": [
    "## Publish everything"
   ]
  },
  {
   "cell_type": "code",
   "execution_count": null,
   "id": "3355723b-65c4-4d68-be2d-7600ee91bb16",
   "metadata": {},
   "outputs": [],
   "source": [
    "# for loops publish stored ids"
   ]
  }
 ],
 "metadata": {
  "kernelspec": {
   "display_name": "Python 3 (ipykernel)",
   "language": "python",
   "name": "python3"
  },
  "language_info": {
   "codemirror_mode": {
    "name": "ipython",
    "version": 3
   },
   "file_extension": ".py",
   "mimetype": "text/x-python",
   "name": "python",
   "nbconvert_exporter": "python",
   "pygments_lexer": "ipython3",
   "version": "3.9.12"
  }
 },
 "nbformat": 4,
 "nbformat_minor": 5
}
