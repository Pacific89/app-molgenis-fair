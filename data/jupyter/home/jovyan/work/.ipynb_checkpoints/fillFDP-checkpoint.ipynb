{
 "cells": [
  {
   "cell_type": "markdown",
   "id": "6d56896a-17a7-472a-83b0-aa2f63b5a8f4",
   "metadata": {},
   "source": [
    "# Fill the FDP with relevant data from the Molgenis\n",
    "\n",
    "## `Todo` further discribtions"
   ]
  },
  {
   "cell_type": "markdown",
   "id": "2f39b2e0-c40b-49e3-91da-cdf4494c87b7",
   "metadata": {},
   "source": [
    "## API Libraraies \n",
    "### Molgenis\n",
    "\n",
    "`TODO`\n",
    "\n",
    "### FDP our own\n",
    "[Code](https://github.com/bibbox/fdpAPIconnector.py)\n",
    "\n",
    "[PyPI](https://pypi.org/project/fdpAPIconnector/)"
   ]
  },
  {
   "cell_type": "code",
   "execution_count": null,
   "id": "50dbf30e-ac79-4fe1-aab8-d01adfadc402",
   "metadata": {},
   "outputs": [],
   "source": [
    "# pip installs\n",
    "pip install rdflib requests fdpAPIconnector"
   ]
  },
  {
   "cell_type": "code",
   "execution_count": null,
   "id": "112cf84f-99be-442e-916e-f28d67e7fe73",
   "metadata": {},
   "outputs": [],
   "source": [
    "# imports"
   ]
  },
  {
   "cell_type": "markdown",
   "id": "2ca257e8-331c-40e6-b4ee-17d64299a0a8",
   "metadata": {},
   "source": [
    "## Get relevent Env variables URLS, Logins etc."
   ]
  },
  {
   "cell_type": "code",
   "execution_count": null,
   "id": "6bc73570-56a4-4333-a422-c232276033ae",
   "metadata": {},
   "outputs": [],
   "source": [
    "# TODO EJ (einheitlich für alle apps)"
   ]
  },
  {
   "cell_type": "markdown",
   "id": "6c8f9efc-b7d1-44a1-98ab-6517bc22769e",
   "metadata": {},
   "source": [
    "## Get the API clients/connectors"
   ]
  },
  {
   "cell_type": "code",
   "execution_count": null,
   "id": "11a441a4-471a-4e13-bece-6abceae74e5d",
   "metadata": {},
   "outputs": [],
   "source": [
    "# init clients"
   ]
  },
  {
   "cell_type": "markdown",
   "id": "4081c24c-2f40-46d9-8fba-3bee59c6137a",
   "metadata": {},
   "source": [
    "## Get all Catalogs from Molgenis"
   ]
  },
  {
   "cell_type": "code",
   "execution_count": null,
   "id": "4913d270-71ab-4b96-9a76-fdef98dfd63c",
   "metadata": {},
   "outputs": [],
   "source": [
    "# get catalogs"
   ]
  },
  {
   "cell_type": "markdown",
   "id": "6417bf2f-7cf9-42c1-b6af-bf8a22ada20b",
   "metadata": {},
   "source": [
    "## Loop through Catalog ids and create catalogs, datasets and distribution in FDP"
   ]
  },
  {
   "cell_type": "code",
   "execution_count": null,
   "id": "1492c99d-931e-4d07-8732-637c48181049",
   "metadata": {},
   "outputs": [],
   "source": [
    "# for loop... store ids in arrays or dicts"
   ]
  },
  {
   "cell_type": "markdown",
   "id": "78b4bb2f-e3e8-435d-8575-df1d611c63b4",
   "metadata": {},
   "source": [
    "## Publish everything"
   ]
  },
  {
   "cell_type": "code",
   "execution_count": null,
   "id": "3355723b-65c4-4d68-be2d-7600ee91bb16",
   "metadata": {},
   "outputs": [],
   "source": [
    "# for loops publish stored ids"
   ]
  }
 ],
 "metadata": {
  "kernelspec": {
   "display_name": "Python 3 (ipykernel)",
   "language": "python",
   "name": "python3"
  },
  "language_info": {
   "codemirror_mode": {
    "name": "ipython",
    "version": 3
   },
   "file_extension": ".py",
   "mimetype": "text/x-python",
   "name": "python",
   "nbconvert_exporter": "python",
   "pygments_lexer": "ipython3",
   "version": "3.9.10"
  }
 },
 "nbformat": 4,
 "nbformat_minor": 5
}
